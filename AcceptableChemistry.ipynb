{
 "cells": [
  {
   "cell_type": "code",
   "execution_count": 3,
   "metadata": {},
   "outputs": [],
   "source": [
    "import rdkit\n",
    "from rdkit.Chem import Descriptors\n",
    "from tqdm import tqdm\n",
    "import pandas as pd"
   ]
  },
  {
   "cell_type": "code",
   "execution_count": 4,
   "metadata": {},
   "outputs": [],
   "source": [
    "RDKIT_PROPS = {\n",
    "    \"1.0.0\": [\n",
    "        \"FractionCSP3\",\n",
    "        \"HeavyAtomCount\",\n",
    "        \"MolLogP\",\n",
    "        \"MolMR\",\n",
    "        \"MolWt\",\n",
    "        \"NHOHCount\",\n",
    "        \"NOCount\",\n",
    "        \"NumAliphaticCarbocycles\",\n",
    "        \"NumAliphaticHeterocycles\",\n",
    "        \"NumAliphaticRings\",\n",
    "        \"NumAromaticCarbocycles\",\n",
    "        \"NumAromaticHeterocycles\",\n",
    "        \"NumAromaticRings\",\n",
    "        \"NumHAcceptors\",\n",
    "        \"NumHDonors\",\n",
    "        \"NumHeteroatoms\",\n",
    "        \"NumRotatableBonds\",\n",
    "        \"NumSaturatedCarbocycles\",\n",
    "        \"NumSaturatedHeterocycles\",\n",
    "        \"NumSaturatedRings\",\n",
    "        \"TPSA\",\n",
    "        \"fr_Al_COO\",\n",
    "        \"fr_Al_OH\",\n",
    "        \"fr_Al_OH_noTert\",\n",
    "        \"fr_ArN\",\n",
    "        \"fr_Ar_COO\",\n",
    "        \"fr_Ar_N\",\n",
    "        \"fr_Ar_NH\",\n",
    "        \"fr_Ar_OH\",\n",
    "        \"fr_COO\",\n",
    "        \"fr_COO2\",\n",
    "        \"fr_C_O\",\n",
    "        \"fr_C_O_noCOO\",\n",
    "        \"fr_C_S\",\n",
    "        \"fr_HOCCN\",\n",
    "        \"fr_Imine\",\n",
    "        \"fr_NH0\",\n",
    "        \"fr_NH1\",\n",
    "        \"fr_NH2\",\n",
    "        \"fr_N_O\",\n",
    "        \"fr_Ndealkylation1\",\n",
    "        \"fr_Ndealkylation2\",\n",
    "        \"fr_Nhpyrrole\",\n",
    "        \"fr_SH\",\n",
    "        \"fr_aldehyde\",\n",
    "        \"fr_alkyl_carbamate\",\n",
    "        \"fr_alkyl_halide\",\n",
    "        \"fr_allylic_oxid\",\n",
    "        \"fr_amide\",\n",
    "        \"fr_amidine\",\n",
    "        \"fr_aniline\",\n",
    "        \"fr_aryl_methyl\",\n",
    "        \"fr_azide\",\n",
    "        \"fr_azo\",\n",
    "        \"fr_barbitur\",\n",
    "        \"fr_benzene\",\n",
    "        \"fr_benzodiazepine\",\n",
    "        \"fr_bicyclic\",\n",
    "        \"fr_diazo\",\n",
    "        \"fr_dihydropyridine\",\n",
    "        \"fr_epoxide\",\n",
    "        \"fr_ester\",\n",
    "        \"fr_ether\",\n",
    "        \"fr_furan\",\n",
    "        \"fr_guanido\",\n",
    "        \"fr_halogen\",\n",
    "        \"fr_hdrzine\",\n",
    "        \"fr_hdrzone\",\n",
    "        \"fr_imidazole\",\n",
    "        \"fr_imide\",\n",
    "        \"fr_isocyan\",\n",
    "        \"fr_isothiocyan\",\n",
    "        \"fr_ketone\",\n",
    "        \"fr_ketone_Topliss\",\n",
    "        \"fr_lactam\",\n",
    "        \"fr_lactone\",\n",
    "        \"fr_methoxy\",\n",
    "        \"fr_morpholine\",\n",
    "        \"fr_nitrile\",\n",
    "        \"fr_nitro\",\n",
    "        \"fr_nitro_arom\",\n",
    "        \"fr_nitro_arom_nonortho\",\n",
    "        \"fr_nitroso\",\n",
    "        \"fr_oxazole\",\n",
    "        \"fr_oxime\",\n",
    "        \"fr_para_hydroxylation\",\n",
    "        \"fr_phenol\",\n",
    "        \"fr_phenol_noOrthoHbond\",\n",
    "        \"fr_phos_acid\",\n",
    "        \"fr_phos_ester\",\n",
    "        \"fr_piperdine\",\n",
    "        \"fr_piperzine\",\n",
    "        \"fr_priamide\",\n",
    "        \"fr_prisulfonamd\",\n",
    "        \"fr_pyridine\",\n",
    "        \"fr_quatN\",\n",
    "        \"fr_sulfide\",\n",
    "        \"fr_sulfonamd\",\n",
    "        \"fr_sulfone\",\n",
    "        \"fr_term_acetylene\",\n",
    "        \"fr_tetrazole\",\n",
    "        \"fr_thiazole\",\n",
    "        \"fr_thiocyan\",\n",
    "        \"fr_thiophene\",\n",
    "        \"fr_unbrch_alkane\",\n",
    "        \"fr_urea\",\n",
    "    ]\n",
    "}\n",
    "\n",
    "\n",
    "CURRENT_VERSION = \"1.0.0\"\n",
    "\n",
    "\n",
    "class Rdkit2d(object):\n",
    "    def __init__(self):\n",
    "        self.name = \"rdkit2d\"\n",
    "        self.properties = RDKIT_PROPS[CURRENT_VERSION]\n",
    "        self._funcs = {name: func for name, func in Descriptors.descList}\n",
    "\n",
    "    def calc(self, mols):\n",
    "        R = []\n",
    "        for mol in tqdm(mols):\n",
    "            r = []\n",
    "            for prop in self.properties:\n",
    "                r += [self._funcs[prop](mol)]\n",
    "            R += [r]\n",
    "        return pd.DataFrame(R, columns = self.properties)\n",
    "\n",
    "desc = Rdkit2d()"
   ]
  },
  {
   "cell_type": "code",
   "execution_count": 6,
   "metadata": {},
   "outputs": [],
   "source": [
    "from rdkit import Chem\n",
    "\n",
    "\n",
    "# Analyze all series 4\n",
    "\n",
    "mols = [Chem.MolFromSmiles(smi) for smi in list(pd.read_csv(\"data/raw/series4_processed.csv\")[\"smiles\"])]"
   ]
  },
  {
   "cell_type": "code",
   "execution_count": 14,
   "metadata": {},
   "outputs": [
    {
     "name": "stderr",
     "output_type": "stream",
     "text": [
      "100%|██████████| 387/387 [00:00<00:00, 887.39it/s]\n"
     ]
    }
   ],
   "source": [
    "s4 = desc.calc(mols)"
   ]
  },
  {
   "cell_type": "code",
   "execution_count": 17,
   "metadata": {},
   "outputs": [
    {
     "data": {
      "text/plain": [
       "(array([ 3.,  0.,  0.,  0.,  0.,  0.,  0.,  1., 10., 20.,  1.,  0.,  0.,\n",
       "         2.,  1.,  2.,  4., 36., 48.,  4.,  0.,  0.,  3.,  1.,  4., 21.,\n",
       "        44.,  4.,  4.,  2.,  0.,  3.,  5.,  2., 44.,  1.,  0.,  1.,  4.,\n",
       "         1., 22.,  0.,  1.,  0.,  3.,  0.,  7.,  2.,  0.,  0.,  2.,  0.,\n",
       "        11.,  0.,  2.,  1.,  2.,  1.,  0.,  3.,  0.,  1.,  1.,  7.,  0.,\n",
       "         2.,  1.,  0.,  0., 14.,  0.,  1.,  0.,  2.,  0.,  6.,  1.,  1.,\n",
       "         0.,  0.,  3.,  1.,  0.,  0.,  0.,  3.,  0.,  0.,  0.,  6.,  0.,\n",
       "         0.,  0.,  2.,  0.,  0.,  1.,  0.,  0.,  1.]),\n",
       " array([0.    , 0.0056, 0.0112, 0.0168, 0.0224, 0.028 , 0.0336, 0.0392,\n",
       "        0.0448, 0.0504, 0.056 , 0.0616, 0.0672, 0.0728, 0.0784, 0.084 ,\n",
       "        0.0896, 0.0952, 0.1008, 0.1064, 0.112 , 0.1176, 0.1232, 0.1288,\n",
       "        0.1344, 0.14  , 0.1456, 0.1512, 0.1568, 0.1624, 0.168 , 0.1736,\n",
       "        0.1792, 0.1848, 0.1904, 0.196 , 0.2016, 0.2072, 0.2128, 0.2184,\n",
       "        0.224 , 0.2296, 0.2352, 0.2408, 0.2464, 0.252 , 0.2576, 0.2632,\n",
       "        0.2688, 0.2744, 0.28  , 0.2856, 0.2912, 0.2968, 0.3024, 0.308 ,\n",
       "        0.3136, 0.3192, 0.3248, 0.3304, 0.336 , 0.3416, 0.3472, 0.3528,\n",
       "        0.3584, 0.364 , 0.3696, 0.3752, 0.3808, 0.3864, 0.392 , 0.3976,\n",
       "        0.4032, 0.4088, 0.4144, 0.42  , 0.4256, 0.4312, 0.4368, 0.4424,\n",
       "        0.448 , 0.4536, 0.4592, 0.4648, 0.4704, 0.476 , 0.4816, 0.4872,\n",
       "        0.4928, 0.4984, 0.504 , 0.5096, 0.5152, 0.5208, 0.5264, 0.532 ,\n",
       "        0.5376, 0.5432, 0.5488, 0.5544, 0.56  ]),\n",
       " <BarContainer object of 100 artists>)"
      ]
     },
     "execution_count": 17,
     "metadata": {},
     "output_type": "execute_result"
    },
    {
     "data": {
      "image/png": "[encoded data removed]",
      "text/plain": [
       "<Figure size 432x288 with 1 Axes>"
      ]
     },
     "metadata": {
      "needs_background": "light"
     },
     "output_type": "display_data"
    }
   ],
   "source": [
    "%matplotlib inline\n",
    "import matplotlib.pyplot as plt\n",
    "\n",
    "plt.hist(s4[\"FractionCSP3\"],100)\n"
   ]
  },
  {
   "cell_type": "code",
   "execution_count": 13,
   "metadata": {},
   "outputs": [
    {
     "data": {
      "text/plain": [
       "(387, 106)"
      ]
     },
     "execution_count": 13,
     "metadata": {},
     "output_type": "execute_result"
    }
   ],
   "source": []
  },
  {
   "cell_type": "code",
   "execution_count": null,
   "metadata": {},
   "outputs": [],
   "source": []
  }
 ],
 "metadata": {
  "kernelspec": {
   "display_name": "Python 3",
   "language": "python",
   "name": "python3"
  },
  "language_info": {
   "codemirror_mode": {
    "name": "ipython",
    "version": 3
   },
   "file_extension": ".py",
   "mimetype": "text/x-python",
   "name": "python",
   "nbconvert_exporter": "python",
   "pygments_lexer": "ipython3",
   "version": "3.7.3"
  }
 },
 "nbformat": 4,
 "nbformat_minor": 4
}
