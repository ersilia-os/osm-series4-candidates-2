{
 "cells": [
  {
   "cell_type": "code",
   "execution_count": 13,
   "metadata": {},
   "outputs": [],
   "source": [
    "import os\n",
    "import shutil"
   ]
  },
  {
   "cell_type": "code",
   "execution_count": 14,
   "metadata": {},
   "outputs": [],
   "source": [
    "PATH = \"/home/mduranfrigola/Desktop/virtual_libraries/experiments/\""
   ]
  },
  {
   "cell_type": "code",
   "execution_count": 15,
   "metadata": {},
   "outputs": [],
   "source": [
    "nums = \"12345678\"\n",
    "\n",
    "for num in nums:\n",
    "    dirname = \"results_0{0}\".format(num)\n",
    "    results_folder = os.path.join(PATH, dirname)\n",
    "    if os.path.exists(dirname):\n",
    "        shutil.rmtree(dirname)\n",
    "    os.makedirs(dirname)\n",
    "    novo_molecules_folder = os.path.join(results_folder, \"osm_s4_active\", \"novo_molecules\")\n",
    "    for fn in os.listdir(novo_molecules_folder):\n",
    "        if fn[-3:] != \"txt\": continue\n",
    "        shutil.copy(os.path.join(novo_molecules_folder, fn), os.path.join(dirname, fn))\n",
    "    shutil.copy(os.path.join(results_folder, \"parameters.ini\"), os.path.join(dirname, \"parameteres.ini\"))"
   ]
  }
 ],
 "metadata": {
  "kernelspec": {
   "display_name": "Python 3",
   "language": "python",
   "name": "python3"
  },
  "language_info": {
   "codemirror_mode": {
    "name": "ipython",
    "version": 3
   },
   "file_extension": ".py",
   "mimetype": "text/x-python",
   "name": "python",
   "nbconvert_exporter": "python",
   "pygments_lexer": "ipython3",
   "version": "3.7.3"
  }
 },
 "nbformat": 4,
 "nbformat_minor": 2
}
