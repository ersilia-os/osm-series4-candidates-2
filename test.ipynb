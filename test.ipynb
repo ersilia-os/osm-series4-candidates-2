{
 "cells": [
  {
   "cell_type": "code",
   "execution_count": 6,
   "metadata": {},
   "outputs": [],
   "source": [
    "import os\n",
    "import csv\n",
    "import pandas as pd\n",
    "from rdkit import Chem\n",
    "from standardiser import standardise\n",
    "from tqdm import tqdm\n"
   ]
  },
  {
   "cell_type": "code",
   "execution_count": 7,
   "metadata": {},
   "outputs": [],
   "source": [
    "reinvent_dir=\"data/reinvent\"\n",
    "mollib_dir=\"data/mollib\"\n",
    "\n",
    "all_smiles=[]\n",
    "\n",
    "for root, dirs, files in os.walk(reinvent_dir):\n",
    "    for filename in files:\n",
    "        path=os.path.join(root,filename)\n",
    "        df=pd.read_csv(path)\n",
    "        smiles=df[\"SMILES\"].tolist()\n",
    "        all_smiles += smiles\n",
    "for root, dirs, files in os.walk(mollib_dir):\n",
    "    for filename in files:\n",
    "        if filename[-3:] == \"txt\":\n",
    "            path=os.path.join(root,filename)\n",
    "            with open(path, \"r\") as f:\n",
    "                for line in f:\n",
    "                    line=line.rstrip(\"\\n\")\n",
    "                    all_smiles += [line]"
   ]
  },
  {
   "cell_type": "code",
   "execution_count": 8,
   "metadata": {},
   "outputs": [],
   "source": [
    "class StandardizeSmiles(object):\n",
    "\n",
    "    def __init__(self):\n",
    "        pass\n",
    "\n",
    "    def _smiles(self, mol):\n",
    "        return Chem.MolToSmiles(mol)\n",
    "\n",
    "    def _inchikey(self, mol):\n",
    "        return Chem.inchi.MolToInchiKey(mol)\n",
    "\n",
    "    def standardize(self, smi):\n",
    "        mol = Chem.MolFromSmiles(smi)\n",
    "        if mol is None:\n",
    "            return None\n",
    "        try:\n",
    "            mol = standardise.run(mol)\n",
    "        except:\n",
    "            return None\n",
    "        if mol is None:\n",
    "            return None\n",
    "        ik = self._inchikey(mol)\n",
    "        smi = self._smiles(mol)\n",
    "        return ik, smi"
   ]
  },
  {
   "cell_type": "code",
   "execution_count": null,
   "metadata": {},
   "outputs": [],
   "source": [
    "std = StandardizeSmiles()\n",
    "\n",
    "ik2smiles = {}\n",
    "for smi in tqdm(all_smiles):\n",
    "    mol = std.standardize(smi)\n",
    "    if mol is None:\n",
    "        continue\n",
    "    ik2smiles[mol[0]] = mol[1]\n",
    "print(ik2smiles)"
   ]
  },
  {
   "cell_type": "code",
   "execution_count": null,
   "metadata": {},
   "outputs": [],
   "source": [
    "R = []\n",
    "for k,v in ik2smiles.items():\n",
    "    R += [[k, v]]\n",
    "df = pd.DataFrame(R, columns = [\"InchiKey\", \"Smiles\"])\n"
   ]
  },
  {
   "cell_type": "code",
   "execution_count": 16,
   "metadata": {},
   "outputs": [
    {
     "data": {
      "text/plain": [
       "474"
      ]
     },
     "execution_count": 16,
     "metadata": {},
     "output_type": "execute_result"
    }
   ],
   "source": [
    "std = StandardizeSmiles()\n",
    "\n",
    "s4smiles=pd.read_csv(\"data/raw/series4_allsmiles.csv\")\n",
    "s4smiles_list=s4smiles[\"canonical\"].tolist()\n",
    "s4inchikey=[]\n",
    "for smi in (s4smiles_list):\n",
    "    s4mol=std.standardize(smi)\n",
    "    if s4mol is None:\n",
    "        continue\n",
    "    s4inchikey.append(s4mol[0])\n",
    "\n",
    "\n",
    "len(s4inchikey)\n"
   ]
  },
  {
   "cell_type": "code",
   "execution_count": null,
   "metadata": {},
   "outputs": [],
   "source": []
  }
 ],
 "metadata": {
  "kernelspec": {
   "display_name": "Python 3",
   "language": "python",
   "name": "python3"
  },
  "language_info": {
   "codemirror_mode": {
    "name": "ipython",
    "version": 3
   },
   "file_extension": ".py",
   "mimetype": "text/x-python",
   "name": "python",
   "nbconvert_exporter": "python",
   "pygments_lexer": "ipython3",
   "version": "3.7.3"
  }
 },
 "nbformat": 4,
 "nbformat_minor": 2
}
